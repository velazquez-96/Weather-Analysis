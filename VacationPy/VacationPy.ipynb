{
 "cells": [
  {
   "cell_type": "markdown",
   "metadata": {},
   "source": [
    "# VacationPy\n",
    "----"
   ]
  },
  {
   "cell_type": "code",
   "execution_count": 1,
   "metadata": {},
   "outputs": [],
   "source": [
    "# Dependencies and Setup\n",
    "import matplotlib.pyplot as plt\n",
    "import pandas as pd\n",
    "import numpy as np\n",
    "import requests\n",
    "import gmaps\n",
    "import os\n",
    "\n",
    "# Import API key\n",
    "from api_keys_hw import g_key"
   ]
  },
  {
   "cell_type": "markdown",
   "metadata": {},
   "source": [
    "### Store Part I results into DataFrame"
   ]
  },
  {
   "cell_type": "code",
   "execution_count": 2,
   "metadata": {},
   "outputs": [],
   "source": [
    "cities_info = pd.read_csv(\"../WeatherPy/cities_final.csv\")"
   ]
  },
  {
   "cell_type": "markdown",
   "metadata": {},
   "source": [
    "### Humidity Heatmap"
   ]
  },
  {
   "cell_type": "code",
   "execution_count": 3,
   "metadata": {},
   "outputs": [],
   "source": [
    "gmaps.configure(api_key=g_key)\n",
    "#figure_layout ={}\n",
    "\n",
    "fig = gmaps.figure()"
   ]
  },
  {
   "cell_type": "code",
   "execution_count": 4,
   "metadata": {},
   "outputs": [],
   "source": [
    "cities_info.dropna(inplace=True)"
   ]
  },
  {
   "cell_type": "code",
   "execution_count": 5,
   "metadata": {},
   "outputs": [
    {
     "data": {
      "application/vnd.jupyter.widget-view+json": {
       "model_id": "290d76b35d1742769fe700ba58498fa0",
       "version_major": 2,
       "version_minor": 0
      },
      "text/plain": [
       "Figure(layout=FigureLayout(height='420px'))"
      ]
     },
     "metadata": {},
     "output_type": "display_data"
    }
   ],
   "source": [
    "locations = cities_info[[\"Lat\", \"Lng\"]]\n",
    "humidity = cities_info[\"Humidity\"]\n",
    "\n",
    "heat_layer = gmaps.heatmap_layer(\n",
    "    locations,\n",
    "    weights = humidity ,\n",
    "    dissipating = False,\n",
    "    point_radius=3,\n",
    "    max_intensity =100 \n",
    ")\n",
    "\n",
    "fig.add_layer(heat_layer)\n",
    "fig"
   ]
  },
  {
   "cell_type": "markdown",
   "metadata": {},
   "source": [
    "### Create new DataFrame fitting weather criteria\n",
    "* Narrow down the cities to fit weather conditions.\n",
    "* Drop any rows will null values."
   ]
  },
  {
   "cell_type": "code",
   "execution_count": 6,
   "metadata": {},
   "outputs": [
    {
     "data": {
      "text/html": [
       "<div>\n",
       "<style scoped>\n",
       "    .dataframe tbody tr th:only-of-type {\n",
       "        vertical-align: middle;\n",
       "    }\n",
       "\n",
       "    .dataframe tbody tr th {\n",
       "        vertical-align: top;\n",
       "    }\n",
       "\n",
       "    .dataframe thead th {\n",
       "        text-align: right;\n",
       "    }\n",
       "</style>\n",
       "<table border=\"1\" class=\"dataframe\">\n",
       "  <thead>\n",
       "    <tr style=\"text-align: right;\">\n",
       "      <th></th>\n",
       "      <th>City</th>\n",
       "      <th>Cloudiness</th>\n",
       "      <th>Country</th>\n",
       "      <th>Date</th>\n",
       "      <th>Humidity</th>\n",
       "      <th>Lat</th>\n",
       "      <th>Lng</th>\n",
       "      <th>Max Temp</th>\n",
       "      <th>Wind Speed</th>\n",
       "    </tr>\n",
       "  </thead>\n",
       "  <tbody>\n",
       "    <tr>\n",
       "      <th>33</th>\n",
       "      <td>hilo</td>\n",
       "      <td>1.0</td>\n",
       "      <td>US</td>\n",
       "      <td>1.589204e+09</td>\n",
       "      <td>68.0</td>\n",
       "      <td>19.73</td>\n",
       "      <td>-155.09</td>\n",
       "      <td>69.80</td>\n",
       "      <td>4.70</td>\n",
       "    </tr>\n",
       "    <tr>\n",
       "      <th>61</th>\n",
       "      <td>huejuquilla el alto</td>\n",
       "      <td>0.0</td>\n",
       "      <td>MX</td>\n",
       "      <td>1.589205e+09</td>\n",
       "      <td>35.0</td>\n",
       "      <td>22.60</td>\n",
       "      <td>-103.87</td>\n",
       "      <td>65.66</td>\n",
       "      <td>1.34</td>\n",
       "    </tr>\n",
       "    <tr>\n",
       "      <th>224</th>\n",
       "      <td>tocopilla</td>\n",
       "      <td>4.0</td>\n",
       "      <td>CL</td>\n",
       "      <td>1.589205e+09</td>\n",
       "      <td>51.0</td>\n",
       "      <td>-22.09</td>\n",
       "      <td>-70.20</td>\n",
       "      <td>68.68</td>\n",
       "      <td>4.99</td>\n",
       "    </tr>\n",
       "    <tr>\n",
       "      <th>301</th>\n",
       "      <td>morgan city</td>\n",
       "      <td>1.0</td>\n",
       "      <td>US</td>\n",
       "      <td>1.589205e+09</td>\n",
       "      <td>72.0</td>\n",
       "      <td>29.70</td>\n",
       "      <td>-91.21</td>\n",
       "      <td>66.00</td>\n",
       "      <td>4.70</td>\n",
       "    </tr>\n",
       "    <tr>\n",
       "      <th>352</th>\n",
       "      <td>gorontalo</td>\n",
       "      <td>0.0</td>\n",
       "      <td>ID</td>\n",
       "      <td>1.589205e+09</td>\n",
       "      <td>85.0</td>\n",
       "      <td>0.54</td>\n",
       "      <td>123.06</td>\n",
       "      <td>77.52</td>\n",
       "      <td>2.95</td>\n",
       "    </tr>\n",
       "  </tbody>\n",
       "</table>\n",
       "</div>"
      ],
      "text/plain": [
       "                    City  Cloudiness Country          Date  Humidity    Lat  \\\n",
       "33                  hilo         1.0      US  1.589204e+09      68.0  19.73   \n",
       "61   huejuquilla el alto         0.0      MX  1.589205e+09      35.0  22.60   \n",
       "224            tocopilla         4.0      CL  1.589205e+09      51.0 -22.09   \n",
       "301          morgan city         1.0      US  1.589205e+09      72.0  29.70   \n",
       "352            gorontalo         0.0      ID  1.589205e+09      85.0   0.54   \n",
       "\n",
       "        Lng  Max Temp  Wind Speed  \n",
       "33  -155.09     69.80        4.70  \n",
       "61  -103.87     65.66        1.34  \n",
       "224  -70.20     68.68        4.99  \n",
       "301  -91.21     66.00        4.70  \n",
       "352  123.06     77.52        2.95  "
      ]
     },
     "execution_count": 6,
     "metadata": {},
     "output_type": "execute_result"
    }
   ],
   "source": [
    "condition_1 = cities_info[\"Cloudiness\"]<5\n",
    "condition_2 = (cities_info[\"Max Temp\"]>65) & (cities_info[\"Max Temp\"]<80)\n",
    "condition_3 = (cities_info[\"Wind Speed\"]<5)\n",
    "conditions_df = cities_info[condition_1 & condition_2 & condition_3].head(5)\n",
    "conditions_df = conditions_df.dropna()\n",
    "conditions_df"
   ]
  },
  {
   "cell_type": "markdown",
   "metadata": {},
   "source": [
    "### Hotel Map\n",
    "* Store into variable named `hotel_df`.\n",
    "* Add a \"Hotel Name\" column to the DataFrame.\n",
    "* Set parameters to search for hotels with 5000 meters.\n",
    "* Hit the Google Places API for each city's coordinates.\n",
    "* Store the first Hotel result into the DataFrame.\n",
    "* Plot markers on top of the heatmap."
   ]
  },
  {
   "cell_type": "code",
   "execution_count": 7,
   "metadata": {},
   "outputs": [
    {
     "data": {
      "text/html": [
       "<div>\n",
       "<style scoped>\n",
       "    .dataframe tbody tr th:only-of-type {\n",
       "        vertical-align: middle;\n",
       "    }\n",
       "\n",
       "    .dataframe tbody tr th {\n",
       "        vertical-align: top;\n",
       "    }\n",
       "\n",
       "    .dataframe thead th {\n",
       "        text-align: right;\n",
       "    }\n",
       "</style>\n",
       "<table border=\"1\" class=\"dataframe\">\n",
       "  <thead>\n",
       "    <tr style=\"text-align: right;\">\n",
       "      <th></th>\n",
       "      <th>City</th>\n",
       "      <th>Cloudiness</th>\n",
       "      <th>Country</th>\n",
       "      <th>Date</th>\n",
       "      <th>Humidity</th>\n",
       "      <th>Lat</th>\n",
       "      <th>Lng</th>\n",
       "      <th>Max Temp</th>\n",
       "      <th>Wind Speed</th>\n",
       "      <th>Hotel Name</th>\n",
       "    </tr>\n",
       "  </thead>\n",
       "  <tbody>\n",
       "    <tr>\n",
       "      <th>33</th>\n",
       "      <td>hilo</td>\n",
       "      <td>1.0</td>\n",
       "      <td>US</td>\n",
       "      <td>1.589204e+09</td>\n",
       "      <td>68.0</td>\n",
       "      <td>19.73</td>\n",
       "      <td>-155.09</td>\n",
       "      <td>69.80</td>\n",
       "      <td>4.70</td>\n",
       "      <td></td>\n",
       "    </tr>\n",
       "    <tr>\n",
       "      <th>61</th>\n",
       "      <td>huejuquilla el alto</td>\n",
       "      <td>0.0</td>\n",
       "      <td>MX</td>\n",
       "      <td>1.589205e+09</td>\n",
       "      <td>35.0</td>\n",
       "      <td>22.60</td>\n",
       "      <td>-103.87</td>\n",
       "      <td>65.66</td>\n",
       "      <td>1.34</td>\n",
       "      <td></td>\n",
       "    </tr>\n",
       "    <tr>\n",
       "      <th>224</th>\n",
       "      <td>tocopilla</td>\n",
       "      <td>4.0</td>\n",
       "      <td>CL</td>\n",
       "      <td>1.589205e+09</td>\n",
       "      <td>51.0</td>\n",
       "      <td>-22.09</td>\n",
       "      <td>-70.20</td>\n",
       "      <td>68.68</td>\n",
       "      <td>4.99</td>\n",
       "      <td></td>\n",
       "    </tr>\n",
       "    <tr>\n",
       "      <th>301</th>\n",
       "      <td>morgan city</td>\n",
       "      <td>1.0</td>\n",
       "      <td>US</td>\n",
       "      <td>1.589205e+09</td>\n",
       "      <td>72.0</td>\n",
       "      <td>29.70</td>\n",
       "      <td>-91.21</td>\n",
       "      <td>66.00</td>\n",
       "      <td>4.70</td>\n",
       "      <td></td>\n",
       "    </tr>\n",
       "    <tr>\n",
       "      <th>352</th>\n",
       "      <td>gorontalo</td>\n",
       "      <td>0.0</td>\n",
       "      <td>ID</td>\n",
       "      <td>1.589205e+09</td>\n",
       "      <td>85.0</td>\n",
       "      <td>0.54</td>\n",
       "      <td>123.06</td>\n",
       "      <td>77.52</td>\n",
       "      <td>2.95</td>\n",
       "      <td></td>\n",
       "    </tr>\n",
       "  </tbody>\n",
       "</table>\n",
       "</div>"
      ],
      "text/plain": [
       "                    City  Cloudiness Country          Date  Humidity    Lat  \\\n",
       "33                  hilo         1.0      US  1.589204e+09      68.0  19.73   \n",
       "61   huejuquilla el alto         0.0      MX  1.589205e+09      35.0  22.60   \n",
       "224            tocopilla         4.0      CL  1.589205e+09      51.0 -22.09   \n",
       "301          morgan city         1.0      US  1.589205e+09      72.0  29.70   \n",
       "352            gorontalo         0.0      ID  1.589205e+09      85.0   0.54   \n",
       "\n",
       "        Lng  Max Temp  Wind Speed Hotel Name  \n",
       "33  -155.09     69.80        4.70             \n",
       "61  -103.87     65.66        1.34             \n",
       "224  -70.20     68.68        4.99             \n",
       "301  -91.21     66.00        4.70             \n",
       "352  123.06     77.52        2.95             "
      ]
     },
     "execution_count": 7,
     "metadata": {},
     "output_type": "execute_result"
    }
   ],
   "source": [
    "conditions_df[\"Hotel Name\"] = \"\"\n",
    "conditions_df"
   ]
  },
  {
   "cell_type": "code",
   "execution_count": 8,
   "metadata": {
    "scrolled": true
   },
   "outputs": [
    {
     "name": "stdout",
     "output_type": "stream",
     "text": [
      "Closest hotel to hilo is Grand Naniloa Hotel Hilo - a DoubleTree by Hilton.\n",
      "Closest hotel to huejuquilla el alto is Hotel Huexuquillan.\n",
      "Closest hotel to tocopilla is Hostal Paraiso.\n",
      "Closest hotel to morgan city is Red Roof Inn Morgan City.\n",
      "Closest hotel to gorontalo is Gorontalo Inn Hotel.\n"
     ]
    }
   ],
   "source": [
    "for index, row in conditions_df.iterrows():\n",
    "    lat = row[\"Lat\"]\n",
    "    lng = row[\"Lng\"]\n",
    "    city_name = row[\"City\"]\n",
    "    \n",
    "    target_coordinates = f\"{lat},{lng}\"\n",
    "    target_radius = 5000\n",
    "    target_search = \"hotel\"\n",
    "    target_type = \"lodging\"\n",
    "    \n",
    "    params = { \n",
    "    \"location\": target_coordinates,\n",
    "    \"radius\": target_radius,\n",
    "    \"keyword\": target_search,\n",
    "    \"type\": target_type,\n",
    "    \"key\": g_key\n",
    "    }\n",
    "\n",
    "    # base url\n",
    "    base_url = \"https://maps.googleapis.com/maps/api/place/nearbysearch/json\"\n",
    "\n",
    "    # run a request using our params dictionary\n",
    "    response = requests.get(base_url, params=params).json()\n",
    "    \n",
    "    # extract results\n",
    "    results = response['results']\n",
    "    \n",
    "    try:\n",
    "        print(f\"Closest hotel to {city_name} is {results[0]['name']}.\")\n",
    "        \n",
    "        conditions_df.loc[index, \"Hotel Name\"] = results[0][\"name\"]\n",
    "        \n",
    "    except(KeyError, IndexError):\n",
    "        print(\"Hotel not found. Skipping...\")\n"
   ]
  },
  {
   "cell_type": "code",
   "execution_count": 9,
   "metadata": {},
   "outputs": [
    {
     "data": {
      "text/html": [
       "<div>\n",
       "<style scoped>\n",
       "    .dataframe tbody tr th:only-of-type {\n",
       "        vertical-align: middle;\n",
       "    }\n",
       "\n",
       "    .dataframe tbody tr th {\n",
       "        vertical-align: top;\n",
       "    }\n",
       "\n",
       "    .dataframe thead th {\n",
       "        text-align: right;\n",
       "    }\n",
       "</style>\n",
       "<table border=\"1\" class=\"dataframe\">\n",
       "  <thead>\n",
       "    <tr style=\"text-align: right;\">\n",
       "      <th></th>\n",
       "      <th>City</th>\n",
       "      <th>Cloudiness</th>\n",
       "      <th>Country</th>\n",
       "      <th>Date</th>\n",
       "      <th>Humidity</th>\n",
       "      <th>Lat</th>\n",
       "      <th>Lng</th>\n",
       "      <th>Max Temp</th>\n",
       "      <th>Wind Speed</th>\n",
       "      <th>Hotel Name</th>\n",
       "    </tr>\n",
       "  </thead>\n",
       "  <tbody>\n",
       "    <tr>\n",
       "      <th>33</th>\n",
       "      <td>hilo</td>\n",
       "      <td>1.0</td>\n",
       "      <td>US</td>\n",
       "      <td>1.589204e+09</td>\n",
       "      <td>68.0</td>\n",
       "      <td>19.73</td>\n",
       "      <td>-155.09</td>\n",
       "      <td>69.80</td>\n",
       "      <td>4.70</td>\n",
       "      <td>Grand Naniloa Hotel Hilo - a DoubleTree by Hilton</td>\n",
       "    </tr>\n",
       "    <tr>\n",
       "      <th>61</th>\n",
       "      <td>huejuquilla el alto</td>\n",
       "      <td>0.0</td>\n",
       "      <td>MX</td>\n",
       "      <td>1.589205e+09</td>\n",
       "      <td>35.0</td>\n",
       "      <td>22.60</td>\n",
       "      <td>-103.87</td>\n",
       "      <td>65.66</td>\n",
       "      <td>1.34</td>\n",
       "      <td>Hotel Huexuquillan</td>\n",
       "    </tr>\n",
       "    <tr>\n",
       "      <th>224</th>\n",
       "      <td>tocopilla</td>\n",
       "      <td>4.0</td>\n",
       "      <td>CL</td>\n",
       "      <td>1.589205e+09</td>\n",
       "      <td>51.0</td>\n",
       "      <td>-22.09</td>\n",
       "      <td>-70.20</td>\n",
       "      <td>68.68</td>\n",
       "      <td>4.99</td>\n",
       "      <td>Hostal Paraiso</td>\n",
       "    </tr>\n",
       "    <tr>\n",
       "      <th>301</th>\n",
       "      <td>morgan city</td>\n",
       "      <td>1.0</td>\n",
       "      <td>US</td>\n",
       "      <td>1.589205e+09</td>\n",
       "      <td>72.0</td>\n",
       "      <td>29.70</td>\n",
       "      <td>-91.21</td>\n",
       "      <td>66.00</td>\n",
       "      <td>4.70</td>\n",
       "      <td>Red Roof Inn Morgan City</td>\n",
       "    </tr>\n",
       "    <tr>\n",
       "      <th>352</th>\n",
       "      <td>gorontalo</td>\n",
       "      <td>0.0</td>\n",
       "      <td>ID</td>\n",
       "      <td>1.589205e+09</td>\n",
       "      <td>85.0</td>\n",
       "      <td>0.54</td>\n",
       "      <td>123.06</td>\n",
       "      <td>77.52</td>\n",
       "      <td>2.95</td>\n",
       "      <td>Gorontalo Inn Hotel</td>\n",
       "    </tr>\n",
       "  </tbody>\n",
       "</table>\n",
       "</div>"
      ],
      "text/plain": [
       "                    City  Cloudiness Country          Date  Humidity    Lat  \\\n",
       "33                  hilo         1.0      US  1.589204e+09      68.0  19.73   \n",
       "61   huejuquilla el alto         0.0      MX  1.589205e+09      35.0  22.60   \n",
       "224            tocopilla         4.0      CL  1.589205e+09      51.0 -22.09   \n",
       "301          morgan city         1.0      US  1.589205e+09      72.0  29.70   \n",
       "352            gorontalo         0.0      ID  1.589205e+09      85.0   0.54   \n",
       "\n",
       "        Lng  Max Temp  Wind Speed  \\\n",
       "33  -155.09     69.80        4.70   \n",
       "61  -103.87     65.66        1.34   \n",
       "224  -70.20     68.68        4.99   \n",
       "301  -91.21     66.00        4.70   \n",
       "352  123.06     77.52        2.95   \n",
       "\n",
       "                                            Hotel Name  \n",
       "33   Grand Naniloa Hotel Hilo - a DoubleTree by Hilton  \n",
       "61                                  Hotel Huexuquillan  \n",
       "224                                     Hostal Paraiso  \n",
       "301                           Red Roof Inn Morgan City  \n",
       "352                                Gorontalo Inn Hotel  "
      ]
     },
     "execution_count": 9,
     "metadata": {},
     "output_type": "execute_result"
    }
   ],
   "source": [
    "conditions_df.replace(\"\", np.nan, inplace=True)\n",
    "conditions_df.dropna()"
   ]
  },
  {
   "cell_type": "code",
   "execution_count": 10,
   "metadata": {},
   "outputs": [],
   "source": [
    "lat = conditions_df[\"Lat\"]\n",
    "lng = conditions_df[\"Lng\"]\n",
    "lat_lng = list(zip(lat,lng ))\n",
    "marker_locations = lat_lng\n",
    "markers = gmaps.marker_layer(marker_locations)\n",
    "fig.add_layer(markers)"
   ]
  },
  {
   "cell_type": "code",
   "execution_count": 11,
   "metadata": {},
   "outputs": [
    {
     "data": {
      "application/vnd.jupyter.widget-view+json": {
       "model_id": "290d76b35d1742769fe700ba58498fa0",
       "version_major": 2,
       "version_minor": 0
      },
      "text/plain": [
       "Figure(layout=FigureLayout(height='420px'))"
      ]
     },
     "metadata": {},
     "output_type": "display_data"
    }
   ],
   "source": [
    "# Using the template add the hotel marks to the heatmap\n",
    "info_box_template = \"\"\"\n",
    "<dl>\n",
    "<dt>Name</dt><dd>{Hotel Name}</dd>\n",
    "<dt>City</dt><dd>{City}</dd>\n",
    "<dt>Country</dt><dd>{Country}</dd>\n",
    "</dl>\n",
    "\"\"\"\n",
    "# Store the DataFrame Row\n",
    "# NOTE: be sure to update with your DataFrame name\n",
    "hotel_info = [info_box_template.format(**row) for index, row in conditions_df.iterrows()]\n",
    "locations = conditions_df[[\"Lat\", \"Lng\"]]\n",
    "\n",
    "marker_layer = gmaps.marker_layer(locations, info_box_content=hotel_info)\n",
    "fig.add_layer(marker_layer)\n",
    "fig"
   ]
  }
 ],
 "metadata": {
  "kernelspec": {
   "display_name": "Python 3",
   "language": "python",
   "name": "python3"
  },
  "language_info": {
   "codemirror_mode": {
    "name": "ipython",
    "version": 3
   },
   "file_extension": ".py",
   "mimetype": "text/x-python",
   "name": "python",
   "nbconvert_exporter": "python",
   "pygments_lexer": "ipython3",
   "version": "3.7.6"
  },
  "latex_envs": {
   "LaTeX_envs_menu_present": true,
   "autoclose": false,
   "autocomplete": true,
   "bibliofile": "biblio.bib",
   "cite_by": "apalike",
   "current_citInitial": 1,
   "eqLabelWithNumbers": true,
   "eqNumInitial": 1,
   "hotkeys": {
    "equation": "Ctrl-E",
    "itemize": "Ctrl-I"
   },
   "labels_anchors": false,
   "latex_user_defs": false,
   "report_style_numbering": false,
   "user_envs_cfg": false
  }
 },
 "nbformat": 4,
 "nbformat_minor": 2
}
